{
 "cells": [
  {
   "cell_type": "code",
   "execution_count": null,
   "metadata": {},
   "outputs": [],
   "source": [
    "import pickle  \n",
    "from datetime import datetime  \n",
    "from os import path  \n",
    "  \n",
    "class Dumper():  \n",
    "    def __init__(self, archive_dir=\"archive/\"):  \n",
    "        self.archive_dir = archive_dir  \n",
    "          \n",
    "    def dump(self, data):  \n",
    "        with open('self.get_file_name()', 'wb') as file:  \n",
    "            pickle.dump(data, file)  \n",
    "              \n",
    "    def load_for_day(self, day):  \n",
    "        file_name = path.join(self.archive_dir, day + \".pkl\")   \n",
    "        with open(file_name, 'rb') as file:  \n",
    "            sets = pickle.load(data, file)  \n",
    "        return sets  \n",
    "        \n",
    "    def get_file_name(self):   \n",
    "        today = datetime.now().strftime(\"%y-%m-%d\")   \n",
    "        return path.join(self.archive_dir, today + \".pkl\")  \n",
    "      \n",
    "data = {  \n",
    "    'perfomance': [10, 20, 10],  \n",
    "    'clients': {\"Romashka\": 10, \"Vector\": 34}  \n",
    "}  \n",
    "dumper = Dumper()  \n",
    "  \n",
    "dumper.dump(data)  \n",
    "  \n",
    "file_name = datetime.now().strftime(\"%y-%m-%d\")\n",
    "restored_data = dumper.load_for_day(file_name)\n",
    "print(restored_data)  \n"
   ]
  },
  {
   "cell_type": "code",
   "execution_count": 25,
   "metadata": {},
   "outputs": [
    {
     "name": "stdout",
     "output_type": "stream",
     "text": [
      "c:\\VSC IDE\\Skillfactory\n",
      "c:\\VSC IDE\\Skillfactory\\test\n"
     ]
    }
   ],
   "source": [
    "import os \n",
    "\n",
    "start_path = os.getcwd()\n",
    "print(start_path)\n",
    "print(os.path.join(start_path, 'test'))"
   ]
  },
  {
   "cell_type": "code",
   "execution_count": 52,
   "metadata": {},
   "outputs": [],
   "source": [
    "f = open('file.txt', 'w', encoding='utf8')\n",
    "f.tell()\n",
    "f.write('its a file\\n')\n",
    "f.close()"
   ]
  },
  {
   "cell_type": "code",
   "execution_count": null,
   "metadata": {},
   "outputs": [],
   "source": [
    "with open(\"input.txt\", \"wb\") as input_file:\n",
    "    with open(\"output.txt\", \"rb\") as output_file:\n",
    "        for line in input_file:\n",
    "            output_file.write(line)"
   ]
  },
  {
   "cell_type": "code",
   "execution_count": 68,
   "metadata": {},
   "outputs": [
    {
     "name": "stdout",
     "output_type": "stream",
     "text": [
      "hello text\n"
     ]
    }
   ],
   "source": [
    "with open('hello.txt', 'w') as file:\n",
    "    file.write('hello text')\n",
    "\n",
    "with open('hello.txt', 'r') as file:\n",
    "    text = file.read()\n",
    "    print(text)"
   ]
  },
  {
   "cell_type": "code",
   "execution_count": 103,
   "metadata": {},
   "outputs": [],
   "source": [
    "fn = 'numbers.txt'\n",
    "output = 'output.txt'\n",
    "\n",
    "with open(fn) as f:\n",
    "    min_ = max_ = float(f.readline())\n",
    "    for line in f:\n",
    "        num = float(line)\n",
    "        if num > max_:\n",
    "            max_ = num\n",
    "        elif num < min_:\n",
    "            min_ = num\n",
    "    \n",
    "    sum_ = min_ + max_\n",
    "    \n",
    "    with open('output.txt', 'w') as f:\n",
    "        f.write(str(sum_))\n",
    "        f.write('\\n')"
   ]
  },
  {
   "cell_type": "code",
   "execution_count": 53,
   "metadata": {},
   "outputs": [],
   "source": [
    "f = open('file.txt', 'a', encoding='utf8')\n",
    "sequence = [' another\\n new\\n line']\n",
    "f.writelines(sequence)\n",
    "f.close()"
   ]
  },
  {
   "cell_type": "code",
   "execution_count": 54,
   "metadata": {},
   "outputs": [
    {
     "name": "stdout",
     "output_type": "stream",
     "text": [
      "['its a file\\n', ' another\\n', ' new\\n', ' line']\n"
     ]
    }
   ],
   "source": [
    "f = open('file.txt', 'r', encoding='utf8')\n",
    "print(f.readlines())\n",
    "f.close()"
   ]
  },
  {
   "cell_type": "code",
   "execution_count": 65,
   "metadata": {},
   "outputs": [
    {
     "ename": "ValueError",
     "evalue": "read of closed file",
     "output_type": "error",
     "traceback": [
      "\u001b[1;31m---------------------------------------------------------------------------\u001b[0m",
      "\u001b[1;31mValueError\u001b[0m                                Traceback (most recent call last)",
      "Cell \u001b[1;32mIn[65], line 4\u001b[0m\n\u001b[0;32m      1\u001b[0m \u001b[39mwith\u001b[39;00m \u001b[39mopen\u001b[39m(\u001b[39m'\u001b[39m\u001b[39mfile.txt\u001b[39m\u001b[39m'\u001b[39m, \u001b[39m'\u001b[39m\u001b[39mrb\u001b[39m\u001b[39m'\u001b[39m) \u001b[39mas\u001b[39;00m f:\n\u001b[0;32m      2\u001b[0m     a \u001b[39m=\u001b[39m f\u001b[39m.\u001b[39mread(\u001b[39m10\u001b[39m)\n\u001b[1;32m----> 4\u001b[0m f\u001b[39m.\u001b[39;49mread(\u001b[39m3\u001b[39;49m)\n",
      "\u001b[1;31mValueError\u001b[0m: read of closed file"
     ]
    }
   ],
   "source": [
    "with open('file.txt', 'rb') as f:\n",
    "    a = f.read(10)\n",
    "    \n",
    "f.read(3)"
   ]
  }
 ],
 "metadata": {
  "kernelspec": {
   "display_name": "Python 3",
   "language": "python",
   "name": "python3"
  },
  "language_info": {
   "codemirror_mode": {
    "name": "ipython",
    "version": 3
   },
   "file_extension": ".py",
   "mimetype": "text/x-python",
   "name": "python",
   "nbconvert_exporter": "python",
   "pygments_lexer": "ipython3",
   "version": "3.9.6"
  },
  "orig_nbformat": 4
 },
 "nbformat": 4,
 "nbformat_minor": 2
}
