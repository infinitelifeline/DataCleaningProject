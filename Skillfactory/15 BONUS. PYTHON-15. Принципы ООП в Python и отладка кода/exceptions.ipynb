{
 "cells": [
  {
   "cell_type": "code",
   "execution_count": 2,
   "metadata": {},
   "outputs": [
    {
     "name": "stdout",
     "output_type": "stream",
     "text": [
      "before exception\n",
      "1.0\n",
      "no exception caught\n",
      "finally we`re here\n"
     ]
    }
   ],
   "source": [
    "try:\n",
    "    print('before exception')\n",
    "    a = int(input('a:'))\n",
    "    b = int(input('b:'))\n",
    "    c = a/b\n",
    "    print(c)\n",
    "except ZeroDivisionError as e:\n",
    "    print('caught an exception')\n",
    "else:\n",
    "    print('no exception caught')\n",
    "finally:\n",
    "    print('finally we`re here')\n",
    "    \n",
    "\n",
    "    \n"
   ]
  },
  {
   "cell_type": "code",
   "execution_count": 3,
   "metadata": {},
   "outputs": [
    {
     "name": "stdout",
     "output_type": "stream",
     "text": [
      "You typed 5\n",
      "exit\n"
     ]
    }
   ],
   "source": [
    "try:\n",
    "    a = int(input())\n",
    "except ValueError as e:\n",
    "    print('it is not a number')\n",
    "else:\n",
    "    print(f'You typed {a}')\n",
    "finally:\n",
    "    print('exit')"
   ]
  },
  {
   "cell_type": "code",
   "execution_count": 4,
   "metadata": {},
   "outputs": [
    {
     "name": "stdout",
     "output_type": "stream",
     "text": [
      "You are 5 years old\n"
     ]
    }
   ],
   "source": [
    "try:\n",
    "    age = int(input('age:'))\n",
    "    if age > 100 or age <= 0:\n",
    "        raise ValueError('you can`t be that old')\n",
    "    print(f'You are {age} years old')\n",
    "except :\n",
    "    print(f'wrong age, you can`t be {age} years old')"
   ]
  },
  {
   "cell_type": "code",
   "execution_count": 5,
   "metadata": {},
   "outputs": [
    {
     "name": "stdout",
     "output_type": "stream",
     "text": [
      "Errors: error\n",
      "message\n"
     ]
    }
   ],
   "source": [
    "class ParentException(Exception):\n",
    "    def __init__(self, message, error):  # допишем к нашему пустому классу конструктор, который будет печатать дополнительно в консоль информацию об ошибке.\n",
    "        super().__init__(message)  # помним про вызов конструктора родительского класса\n",
    "        print(f\"Errors: {error}\")  # печатаем ошибку\n",
    "\n",
    " \n",
    "class ChildException(ParentException): # создаём пустой класс исключения-потомка, наследуемся от ParentException\n",
    "    def __init__(self, message, error):\n",
    "        super().__init__(message, error)\n",
    " \n",
    " \n",
    "try:\n",
    "    raise ChildException(\"message\", \"error\")  # поднимаем исключение-потомок, передаём дополнительный аргумент\n",
    "except ParentException as e:\n",
    "    print(e)  # выводим информацию об исключении\n"
   ]
  },
  {
   "cell_type": "code",
   "execution_count": 9,
   "metadata": {},
   "outputs": [
    {
     "ename": "NonPosotiveDigitException",
     "evalue": "Wrong Square Side",
     "output_type": "error",
     "traceback": [
      "\u001b[1;31m---------------------------------------------------------------------------\u001b[0m",
      "\u001b[1;31mNonPosotiveDigitException\u001b[0m                 Traceback (most recent call last)",
      "Cell \u001b[1;32mIn[9], line 9\u001b[0m\n\u001b[0;32m      6\u001b[0m         \u001b[39mif\u001b[39;00m a \u001b[39m<\u001b[39m\u001b[39m=\u001b[39m \u001b[39m0\u001b[39m:\n\u001b[0;32m      7\u001b[0m             \u001b[39mraise\u001b[39;00m NonPosotiveDigitException(\u001b[39m'\u001b[39m\u001b[39mWrong Square Side\u001b[39m\u001b[39m'\u001b[39m)\n\u001b[1;32m----> 9\u001b[0m a \u001b[39m=\u001b[39m Square(\u001b[39m0\u001b[39;49m)\n",
      "Cell \u001b[1;32mIn[9], line 7\u001b[0m, in \u001b[0;36mSquare.__init__\u001b[1;34m(self, a)\u001b[0m\n\u001b[0;32m      5\u001b[0m \u001b[39mdef\u001b[39;00m \u001b[39m__init__\u001b[39m(\u001b[39mself\u001b[39m, a):\n\u001b[0;32m      6\u001b[0m     \u001b[39mif\u001b[39;00m a \u001b[39m<\u001b[39m\u001b[39m=\u001b[39m \u001b[39m0\u001b[39m:\n\u001b[1;32m----> 7\u001b[0m         \u001b[39mraise\u001b[39;00m NonPosotiveDigitException(\u001b[39m'\u001b[39m\u001b[39mWrong Square Side\u001b[39m\u001b[39m'\u001b[39m)\n",
      "\u001b[1;31mNonPosotiveDigitException\u001b[0m: Wrong Square Side"
     ]
    }
   ],
   "source": [
    "class NonPosotiveDigitException(ValueError):\n",
    "    pass\n",
    "\n",
    "class Square():\n",
    "    def __init__(self, a):\n",
    "        if a <= 0:\n",
    "            raise NonPosotiveDigitException('Wrong Square Side')\n",
    "        \n",
    "a = Square(0)\n"
   ]
  },
  {
   "attachments": {},
   "cell_type": "markdown",
   "metadata": {},
   "source": [
    "*Markdown* - курсив\n",
    "\n",
    "**Markdown** - жирный шрифт\n",
    "# Markdown \n",
    "\n",
    "$a_{i+1} = a_{i} + 10$"
   ]
  },
  {
   "cell_type": "code",
   "execution_count": null,
   "metadata": {},
   "outputs": [],
   "source": []
  }
 ],
 "metadata": {
  "kernelspec": {
   "display_name": "Python 3",
   "language": "python",
   "name": "python3"
  },
  "language_info": {
   "codemirror_mode": {
    "name": "ipython",
    "version": 3
   },
   "file_extension": ".py",
   "mimetype": "text/x-python",
   "name": "python",
   "nbconvert_exporter": "python",
   "pygments_lexer": "ipython3",
   "version": "3.9.6"
  },
  "orig_nbformat": 4
 },
 "nbformat": 4,
 "nbformat_minor": 2
}
