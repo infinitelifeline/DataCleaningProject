{
 "cells": [
  {
   "cell_type": "code",
   "execution_count": null,
   "metadata": {},
   "outputs": [],
   "source": [
    "import pandas as pd\n",
    "dates = pd.read_csv('data\\MovLen_Data\\dates.csv', sep=',')\n",
    "mov = pd.read_csv('data\\MovLen_Data\\movies.csv', sep=',')\n",
    "r1 = pd.read_csv('data\\MovLen_Data\\ings1.csv', sep=',')\n",
    "r2 = pd.read_csv('data\\MovLen_Data\\ings2.csv', sep=',')\n",
    "ratings = pd.concat([r1, r2], ignore_index=True) # Объединение таблиц в одну\n",
    "ratings = ratings.drop_duplicates(ignore_index=True) # Удаление дубликатов\n",
    "ratings_dates = pd.concat([ratings, dates], axis=1) # Объединение таблиц \n",
    "ratings_dates"
   ]
  },
  {
   "cell_type": "code",
   "execution_count": null,
   "metadata": {},
   "outputs": [],
   "source": [
    "import pandas as pd\n",
    "import os\n",
    "\n",
    "def concat_user_files(path):\n",
    "    data = pd.DataFrame()\n",
    "    file_names = os.listdir(path)\n",
    "    file_names.sort()\n",
    "    for file in file_names:\n",
    "        tmp_data = pd.read_csv(path + '/' + file)\n",
    "        data = pd.concat([data, tmp_data],axis=0, ignore_index=True)\n",
    "        data = data.drop_duplicates()\n",
    "    return data\n"
   ]
  },
  {
   "cell_type": "code",
   "execution_count": null,
   "metadata": {},
   "outputs": [],
   "source": [
    "joined_left = ratings_dates.join(\n",
    "    mov, # Название второй таблицы\n",
    "    rsuffix='_right', # \n",
    "    how='left' # Присоединение первичной таблицы ко вторичной\n",
    ")\n",
    "joined_left"
   ]
  },
  {
   "cell_type": "code",
   "execution_count": null,
   "metadata": {},
   "outputs": [],
   "source": [
    "joined = ratings_dates.join(\n",
    "    mov.set_index('movieId'), #\n",
    "    on='movieId', #\n",
    "    how='left' #\n",
    ")\n",
    "joined"
   ]
  },
  {
   "cell_type": "code",
   "execution_count": null,
   "metadata": {},
   "outputs": [],
   "source": [
    "merged = ratings_dates.merge(\n",
    "    mov,\n",
    "    on='movieId',\n",
    "    how='left'\n",
    ")\n",
    "merged.head()"
   ]
  },
  {
   "cell_type": "code",
   "execution_count": null,
   "metadata": {},
   "outputs": [],
   "source": [
    "merged2 = ratings_dates.merge(\n",
    "    mov,\n",
    "    on='movieId',\n",
    "    how='outer'\n",
    ")\n",
    "merged2.tail()"
   ]
  },
  {
   "cell_type": "code",
   "execution_count": null,
   "metadata": {},
   "outputs": [],
   "source": [
    "merge_ratings = r1.merge(r2, how='outer')\n",
    "merge_ratings"
   ]
  },
  {
   "cell_type": "code",
   "execution_count": null,
   "metadata": {},
   "outputs": [],
   "source": [
    "items_df = pd.DataFrame({\n",
    "    'item_id': [417283, 849734, 132223, 573943, 19475, 3294095, 382043, 302948, 100132, 312394],\n",
    "    'vendor': ['Samsung', 'LG', 'Apple', 'Apple', 'LG', 'Apple', 'Samsung', 'Samsung', 'LG', 'ZTE'],\n",
    "    'stock_count': [54, 33, 122, 18, 102, 43, 77, 143, 60, 19]\n",
    "})\n",
    "\n",
    "\n",
    "purchase_df = pd.DataFrame({\n",
    "    'purchase_id': [101, 101, 101, 112, 121, 145, 145, 145, 145, 221],\n",
    "    'item_id': [417283, 849734, 132223, 573943, 19475, 3294095, 382043, 302948, 103845, 100132],\n",
    "    'price': [13900, 5330, 38200, 49990, 9890, 33000, 67500, 34500, 89900, 11400]\n",
    "})\n",
    "\n",
    "merged_list = items_df.merge(purchase_df, how='inner', on='item_id')\n",
    "income = (merged_list['price'] * merged_list['stock_count']).sum()\n",
    "income"
   ]
  },
  {
   "cell_type": "code",
   "execution_count": null,
   "metadata": {},
   "outputs": [],
   "source": [
    "import re \n",
    "def get_year_release(arg):\n",
    "    #находим все слова по шаблону \"(DDDD)\"\n",
    "    candidates = re.findall(r'\\(\\d{4}\\)', arg) \n",
    "    # проверяем число вхождений\n",
    "    if len(candidates) > 0:\n",
    "        #если число вхождений больше 0,\n",
    "\t#очищаем строку от знаков \"(\" и \")\"\n",
    "        year = candidates[0].replace('(', '')\n",
    "        year = year.replace(')', '')\n",
    "        return int(year)\n",
    "    else:\n",
    "        #если год не указан, возвращаем None\n",
    "        return None\n",
    "\n",
    "\n",
    "rm = pd.read_csv('data\\MovLen_Data\\RM.csv', sep=',')\n",
    "rc = rm.copy()\n",
    "joined['year_released'] = joined['title'].apply(get_year_release)\n",
    "joined.info('year_released')"
   ]
  },
  {
   "cell_type": "code",
   "execution_count": null,
   "metadata": {},
   "outputs": [],
   "source": [
    "mask = joined['year_released'] == 1999\n",
    "joined[mask].groupby('title')['rating'].mean().sort_values()"
   ]
  },
  {
   "cell_type": "code",
   "execution_count": null,
   "metadata": {},
   "outputs": [],
   "source": [
    "mask = joined['year_released'] == 2010\n",
    "joined[mask].groupby('genres')['rating'].mean().sort_values()"
   ]
  },
  {
   "cell_type": "code",
   "execution_count": null,
   "metadata": {},
   "outputs": [],
   "source": [
    "joined.groupby('userId')['genres'].nunique().sort_values(ascending=False)"
   ]
  },
  {
   "cell_type": "code",
   "execution_count": null,
   "metadata": {},
   "outputs": [],
   "source": [
    "joined.groupby('userId')['rating'].agg(['count', 'mean']).sort_values(by='mean', ascending=False)"
   ]
  },
  {
   "cell_type": "code",
   "execution_count": null,
   "metadata": {},
   "outputs": [],
   "source": [
    "mask = joined['year_released'] == 2018\n",
    "joined[mask].groupby('genres')['rating'].agg(['mean', 'count', 'max']).sort_values(by='count', ascending=False)"
   ]
  },
  {
   "cell_type": "code",
   "execution_count": null,
   "metadata": {},
   "outputs": [],
   "source": [
    "joined['date'] = pd.to_datetime(joined['date'], dayfirst=True)\n",
    "joined['year_rating'] = joined['date'].dt.year\n",
    "pivot = joined.pivot_table(index='year_rating',\n",
    "                       columns='genres',\n",
    "                       values='rating',\n",
    "                       aggfunc='mean')\n",
    "pivot"
   ]
  },
  {
   "cell_type": "code",
   "execution_count": 50,
   "metadata": {},
   "outputs": [
    {
     "data": {
      "text/html": [
       "<div>\n",
       "<style scoped>\n",
       "    .dataframe tbody tr th:only-of-type {\n",
       "        vertical-align: middle;\n",
       "    }\n",
       "\n",
       "    .dataframe tbody tr th {\n",
       "        vertical-align: top;\n",
       "    }\n",
       "\n",
       "    .dataframe thead th {\n",
       "        text-align: right;\n",
       "    }\n",
       "</style>\n",
       "<table border=\"1\" class=\"dataframe\">\n",
       "  <thead>\n",
       "    <tr style=\"text-align: right;\">\n",
       "      <th></th>\n",
       "      <th>Product_ID</th>\n",
       "      <th>Name</th>\n",
       "      <th>Price</th>\n",
       "      <th>CURRENCY</th>\n",
       "    </tr>\n",
       "  </thead>\n",
       "  <tbody>\n",
       "    <tr>\n",
       "      <th>0</th>\n",
       "      <td>47</td>\n",
       "      <td>Шатны Полосатый рейс</td>\n",
       "      <td>2999</td>\n",
       "      <td>RUR</td>\n",
       "    </tr>\n",
       "    <tr>\n",
       "      <th>1</th>\n",
       "      <td>51</td>\n",
       "      <td>Платье Аленький цветочек</td>\n",
       "      <td>4999</td>\n",
       "      <td>RUR</td>\n",
       "    </tr>\n",
       "    <tr>\n",
       "      <th>2</th>\n",
       "      <td>53</td>\n",
       "      <td>Штаны Цветочная Поляна</td>\n",
       "      <td>4999</td>\n",
       "      <td>RUR</td>\n",
       "    </tr>\n",
       "    <tr>\n",
       "      <th>3</th>\n",
       "      <td>71</td>\n",
       "      <td>Платье Ночная Жизнь</td>\n",
       "      <td>7999</td>\n",
       "      <td>RUR</td>\n",
       "    </tr>\n",
       "    <tr>\n",
       "      <th>4</th>\n",
       "      <td>74</td>\n",
       "      <td>Платье Ночная Жизнь XXXL</td>\n",
       "      <td>8999</td>\n",
       "      <td>RUR</td>\n",
       "    </tr>\n",
       "    <tr>\n",
       "      <th>5</th>\n",
       "      <td>86</td>\n",
       "      <td>Носки Простые, муж</td>\n",
       "      <td>45</td>\n",
       "      <td>RUR</td>\n",
       "    </tr>\n",
       "    <tr>\n",
       "      <th>6</th>\n",
       "      <td>91</td>\n",
       "      <td>Носки Честные, муж</td>\n",
       "      <td>50</td>\n",
       "      <td>RUR</td>\n",
       "    </tr>\n",
       "    <tr>\n",
       "      <th>7</th>\n",
       "      <td>103</td>\n",
       "      <td>Носки Подарочные, муж</td>\n",
       "      <td>199</td>\n",
       "      <td>RUR</td>\n",
       "    </tr>\n",
       "    <tr>\n",
       "      <th>8</th>\n",
       "      <td>104</td>\n",
       "      <td>Носки Подарочные, жен</td>\n",
       "      <td>249</td>\n",
       "      <td>RUR</td>\n",
       "    </tr>\n",
       "    <tr>\n",
       "      <th>9</th>\n",
       "      <td>124</td>\n",
       "      <td>Носки беговые Camino</td>\n",
       "      <td>999</td>\n",
       "      <td>RUR</td>\n",
       "    </tr>\n",
       "    <tr>\n",
       "      <th>10</th>\n",
       "      <td>137</td>\n",
       "      <td>Гольфы детские Снегурочка</td>\n",
       "      <td>99</td>\n",
       "      <td>RUR</td>\n",
       "    </tr>\n",
       "    <tr>\n",
       "      <th>11</th>\n",
       "      <td>138</td>\n",
       "      <td>Гольфы детские Питер Пен</td>\n",
       "      <td>99</td>\n",
       "      <td>RUR</td>\n",
       "    </tr>\n",
       "    <tr>\n",
       "      <th>12</th>\n",
       "      <td>139</td>\n",
       "      <td>Сумка для носков</td>\n",
       "      <td>500</td>\n",
       "      <td>RUR</td>\n",
       "    </tr>\n",
       "    <tr>\n",
       "      <th>13</th>\n",
       "      <td>140</td>\n",
       "      <td>Товар, которому не придумано название</td>\n",
       "      <td>1</td>\n",
       "      <td>RUR</td>\n",
       "    </tr>\n",
       "  </tbody>\n",
       "</table>\n",
       "</div>"
      ],
      "text/plain": [
       "    Product_ID                                   Name  Price CURRENCY\n",
       "0           47                   Шатны Полосатый рейс   2999      RUR\n",
       "1           51               Платье Аленький цветочек   4999      RUR\n",
       "2           53                 Штаны Цветочная Поляна   4999      RUR\n",
       "3           71                    Платье Ночная Жизнь   7999      RUR\n",
       "4           74               Платье Ночная Жизнь XXXL   8999      RUR\n",
       "5           86                     Носки Простые, муж     45      RUR\n",
       "6           91                     Носки Честные, муж     50      RUR\n",
       "7          103                  Носки Подарочные, муж    199      RUR\n",
       "8          104                  Носки Подарочные, жен    249      RUR\n",
       "9          124                   Носки беговые Camino    999      RUR\n",
       "10         137              Гольфы детские Снегурочка     99      RUR\n",
       "11         138               Гольфы детские Питер Пен     99      RUR\n",
       "12         139                       Сумка для носков    500      RUR\n",
       "13         140  Товар, которому не придумано название      1      RUR"
      ]
     },
     "execution_count": 50,
     "metadata": {},
     "output_type": "execute_result"
    }
   ],
   "source": [
    "ords = pd.read_csv('data\\orders.csv', sep=';')\n",
    "prods = pd.read_csv('data\\products.csv', sep=';')\n",
    "prods"
   ]
  },
  {
   "cell_type": "code",
   "execution_count": 64,
   "metadata": {},
   "outputs": [
    {
     "data": {
      "text/plain": [
       "ID Покупателя\n",
       "1        0.0\n",
       "8     1344.0\n",
       "5    13043.0\n",
       "7    17096.0\n",
       "Name: profit, dtype: float64"
      ]
     },
     "execution_count": 64,
     "metadata": {},
     "output_type": "execute_result"
    }
   ],
   "source": [
    "order_products = ords.merge(prods,\n",
    "                            left_on='ID товара',\n",
    "                            right_on='Product_ID',\n",
    "                            how='left')\n",
    "order_products\n",
    "order_products['profit'] = (order_products['Количество'] * order_products['Price'])\n",
    "order_products[order_products['Оплачен'] == 'Да'].groupby('ID Покупателя')['profit'].sum().sort_values()"
   ]
  }
 ],
 "metadata": {
  "kernelspec": {
   "display_name": "Python 3",
   "language": "python",
   "name": "python3"
  },
  "language_info": {
   "codemirror_mode": {
    "name": "ipython",
    "version": 3
   },
   "file_extension": ".py",
   "mimetype": "text/x-python",
   "name": "python",
   "nbconvert_exporter": "python",
   "pygments_lexer": "ipython3",
   "version": "3.9.6"
  },
  "orig_nbformat": 4
 },
 "nbformat": 4,
 "nbformat_minor": 2
}
