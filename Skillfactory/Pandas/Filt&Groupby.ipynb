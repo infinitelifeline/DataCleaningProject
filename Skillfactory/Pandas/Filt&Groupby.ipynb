{
 "cells": [
  {
   "cell_type": "code",
   "execution_count": null,
   "metadata": {},
   "outputs": [],
   "source": [
    "import pandas as pd\n",
    "mdf = pd.read_csv('data\\melb_data_fe.csv', sep=',')\n",
    "data = mdf.copy()\n",
    "# Приведение даты в формат datetime\n",
    "data['Date'] = pd.to_datetime(data['Date'], dayfirst=True)\n",
    "# Выделение кварталов из дат и подсчет элементов в каждом квартале\n",
    "sec = data['Date'].dt.quarter.value_counts()\n",
    "# Вывод второго по популярности элемента\n",
    "sec.loc[2]"
   ]
  },
  {
   "cell_type": "code",
   "execution_count": null,
   "metadata": {},
   "outputs": [],
   "source": [
    "# Столбцы исключенные из преобразования форматов\n",
    "cols_to_exclude = ['Date', 'Bedroom', 'Rooms', 'Bathroom', 'Car']\n",
    "\n",
    "# Фильтрационный предел по Количеству Уникальных Элементов в столбце\n",
    "max_unique_count = 150\n",
    "\n",
    "# Перебор столбцов в таблице\n",
    "for col in data.columns:\n",
    "    \n",
    "    # Фильтрация по К.У.Э. и по присутствию столбцов в списке искючений\n",
    "    if data[col].nunique() < max_unique_count and col not in cols_to_exclude:\n",
    "        \n",
    "        # Перевод отфильтрованных столбцов в нужный формат\n",
    "        data[col] = data[col].astype('category')\n",
    "\n",
    "data.info()"
   ]
  },
  {
   "cell_type": "code",
   "execution_count": null,
   "metadata": {},
   "outputs": [],
   "source": [
    "# Сортировка по Цене (По Возрастающей)\n",
    "#data.sort_values(by='Price').head(10)\n",
    "\n",
    "# Сортировка по Дате (По Убывающей)\n",
    "#data.sort_values(by='Date', ascending=False)\n",
    "\n",
    "# Сортировка по Удаленности от ЦГ и Цене (По Возрастающей)\n",
    "data.sort_values(by=['Distance', 'Price']).loc[::10, ['Distance', 'Price']]# \n"
   ]
  },
  {
   "cell_type": "code",
   "execution_count": null,
   "metadata": {},
   "outputs": [],
   "source": [
    "mask2 = data['Type'] == 'townhouse'\n",
    "mask1 = data['AreaRatio'] < -0.8 # Коэфф. соотнош. площадей здания и участка\n",
    "mask3 = data['SellerG'] == 'McGrath'\n",
    "data[mask1 & mask2 & mask3].sort_values( # Сортировка значений по маскам\n",
    "    by=['Date', 'AreaRatio'], ascending=[True, False], ignore_index=True # Восх. по Датам. \n",
    "    ).loc[:, ['Date', 'AreaRatio']] # Отображение Дат и Коэфф."
   ]
  },
  {
   "cell_type": "code",
   "execution_count": null,
   "metadata": {},
   "outputs": [],
   "source": [
    "dc = data.copy()\n",
    "\n",
    "# Сортировка Коэфф. по убывающей с заменой индексовб и выделение 1558 строки в столбце BuildingArea\n",
    "dc.sort_values(by='AreaRatio', ascending=False, ignore_index=True).loc[1558, 'BuildingArea']"
   ]
  },
  {
   "cell_type": "code",
   "execution_count": null,
   "metadata": {},
   "outputs": [],
   "source": [
    "town = dc['Type'] == 'townhouse' # Маска типа объектов\n",
    "rooms = dc['Rooms'] > 2 # Маска кол-ва комнат \n",
    "dc[rooms & town].sort_values( \n",
    "    by=['Rooms', 'MeanRoomsSquare'], ascending=[True, False] #\n",
    "    , ignore_index=True).loc[18, 'Price']#"
   ]
  },
  {
   "cell_type": "code",
   "execution_count": null,
   "metadata": {},
   "outputs": [],
   "source": [
    "# Группировка столбца Regionname по Удаленности (Distance) по убывающей\n",
    "data.groupby(by='Regionname')['Distance'].min().sort_values(ascending=False) "
   ]
  },
  {
   "cell_type": "code",
   "execution_count": null,
   "metadata": {},
   "outputs": [],
   "source": [
    "# Группировка столбца MonthSale по Цене (Price) по убывающей\n",
    "data.groupby('MonthSale')['Price'].agg(\n",
    "    ['count', 'mean', 'max']\n",
    ").sort_values(by='count', ascending=False)"
   ]
  },
  {
   "cell_type": "code",
   "execution_count": null,
   "metadata": {},
   "outputs": [],
   "source": [
    "# Группировка столбца Regionname по количеству уникальных продавцов\n",
    "data.groupby(by='Regionname')['SellerG'].agg(['nunique', set])"
   ]
  },
  {
   "cell_type": "code",
   "execution_count": null,
   "metadata": {},
   "outputs": [],
   "source": [
    "# Группировка по количеству Комнат с самой высокой Ценой по Убывающей\n",
    "data.groupby(by='Rooms')['Price'].mean().sort_values(ascending=False)"
   ]
  },
  {
   "cell_type": "code",
   "execution_count": null,
   "metadata": {},
   "outputs": [],
   "source": [
    "# Группировка Регионов по Стандартному оклонению \n",
    "data.groupby('Regionname')['Lattitude'].std().sort_values()"
   ]
  },
  {
   "cell_type": "code",
   "execution_count": null,
   "metadata": {},
   "outputs": [],
   "source": [
    "date1 = pd.to_datetime('2017-05-01')\n",
    "date2 = pd.to_datetime('2017-09-01')\n",
    "mask = (date1 <= data['Date']) & (data['Date']<= date2)\n",
    "data[mask].groupby('SellerG')['Price'].sum().sort_values(ascending=True)"
   ]
  },
  {
   "cell_type": "code",
   "execution_count": null,
   "metadata": {},
   "outputs": [],
   "source": [
    "# Группировка Типов домов и Комнат по Цене\n",
    "# (Unstack-Превращает выходные данные в формат DF) \n",
    "data.groupby(['Rooms', 'Type'])['Price'].mean().unstack()"
   ]
  },
  {
   "cell_type": "code",
   "execution_count": null,
   "metadata": {},
   "outputs": [],
   "source": [
    "data.pivot_table(\n",
    "    values='Price', # Значения - Цена\n",
    "    index='Rooms', # Индексы - Число комнат\n",
    "    columns='Type', # Столбцы - Тип домов\n",
    "    fill_value= 0 # Чем будут заполнены пропуски\n",
    ")"
   ]
  },
  {
   "cell_type": "code",
   "execution_count": null,
   "metadata": {},
   "outputs": [],
   "source": [
    "data.pivot_table(\n",
    "    values='Price',\n",
    "    index= 'Regionname',\n",
    "    columns='Weekend',\n",
    "    aggfunc='count')"
   ]
  },
  {
   "cell_type": "code",
   "execution_count": null,
   "metadata": {},
   "outputs": [],
   "source": [
    "data.pivot_table(\n",
    "    values='Landsize',\n",
    "    index='Regionname',\n",
    "    columns='Type',\n",
    "    fill_value= 0,\n",
    "    aggfunc= ['median', 'mean']\n",
    ")"
   ]
  },
  {
   "cell_type": "code",
   "execution_count": null,
   "metadata": {},
   "outputs": [],
   "source": [
    "data.pivot_table(\n",
    "    values='Price',\n",
    "    index=['Method', 'Type'],\n",
    "    columns='Regionname',\n",
    "    fill_value= 0,\n",
    "    aggfunc= ['median', 'mean']\n",
    ")"
   ]
  },
  {
   "cell_type": "code",
   "execution_count": null,
   "metadata": {},
   "outputs": [],
   "source": [
    "pivot = data.pivot_table(\n",
    "    values='Landsize',\n",
    "    index='Regionname',\n",
    "    columns='Type',\n",
    "    aggfunc=['median', 'mean'],\n",
    "    fill_value=0\n",
    ")\n",
    "mask = pivot['mean']['house'] < pivot['median']['house']\n",
    "filter_pivot = pivot[mask]\n",
    "filter_pivot\n",
    "print(list(filter_pivot.index))"
   ]
  },
  {
   "cell_type": "code",
   "execution_count": null,
   "metadata": {},
   "outputs": [],
   "source": [
    "pivot = data.pivot_table(\n",
    "    values='Price',\n",
    "    index='SellerG',\n",
    "    columns='Type',\n",
    "    fill_value= 0,\n",
    "    aggfunc='median',\n",
    "    )\n",
    "max_price = pivot['unit'].max()\n",
    "print(pivot[pivot['unit'] == max_price].index[0])"
   ]
  }
 ],
 "metadata": {
  "kernelspec": {
   "display_name": "Python 3",
   "language": "python",
   "name": "python3"
  },
  "language_info": {
   "codemirror_mode": {
    "name": "ipython",
    "version": 3
   },
   "file_extension": ".py",
   "mimetype": "text/x-python",
   "name": "python",
   "nbconvert_exporter": "python",
   "pygments_lexer": "ipython3",
   "version": "3.9.6"
  },
  "orig_nbformat": 4
 },
 "nbformat": 4,
 "nbformat_minor": 2
}
