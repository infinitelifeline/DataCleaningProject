{
 "cells": [
  {
   "cell_type": "code",
   "execution_count": 1,
   "metadata": {},
   "outputs": [
    {
     "name": "stdout",
     "output_type": "stream",
     "text": [
      "0    99\n",
      "1    41\n",
      "2    21\n",
      "3     3\n",
      "4    72\n",
      "dtype: int64\n"
     ]
    }
   ],
   "source": [
    "import pandas as pd\n",
    "\n",
    "\n",
    "test_series_1 = pd.Series([\n",
    "    'Опыт работы 8 лет 3 месяца',\n",
    "    'Опыт работы 3 года 5 месяцев',\n",
    "    'Опыт работы 1 год 9 месяцев',\n",
    "    'Опыт работы 3 месяца',\n",
    "    'Опыт работы 6 лет'\n",
    "])\n",
    "\n",
    "def get_experience(arg):\n",
    "    month_key_words = ['месяц', 'месяца', 'месяцев'] # \n",
    "    year_key_words = ['год', 'лет', 'года'] #\n",
    "    args_splitted = arg.split(' ') #\n",
    "    month = 0\n",
    "    year = 0\n",
    "    for i in range(len(args_splitted)):\n",
    "        if args_splitted[i] in month_key_words:\n",
    "            month = args_splitted[i-1]\n",
    "        if args_splitted[i] in year_key_words:\n",
    "            year = args_splitted[i-1]\n",
    "    return int(year)*12 + int(month)\n",
    "    \n",
    "print(test_series_1.apply(get_experience))\n"
   ]
  }
 ],
 "metadata": {
  "kernelspec": {
   "display_name": "Python 3",
   "language": "python",
   "name": "python3"
  },
  "language_info": {
   "codemirror_mode": {
    "name": "ipython",
    "version": 3
   },
   "file_extension": ".py",
   "mimetype": "text/x-python",
   "name": "python",
   "nbconvert_exporter": "python",
   "pygments_lexer": "ipython3",
   "version": "3.9.6"
  },
  "orig_nbformat": 4
 },
 "nbformat": 4,
 "nbformat_minor": 2
}
